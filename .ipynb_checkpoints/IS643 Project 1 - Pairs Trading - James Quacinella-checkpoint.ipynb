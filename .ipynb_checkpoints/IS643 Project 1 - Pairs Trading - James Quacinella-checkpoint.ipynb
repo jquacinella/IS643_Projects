{
 "metadata": {
  "name": ""
 },
 "nbformat": 3,
 "nbformat_minor": 0,
 "worksheets": [
  {
   "cells": [
    {
     "cell_type": "markdown",
     "metadata": {},
     "source": [
      "# IS643 Quantitative Finance - Project 1 - Pairs Trading\n",
      "\n",
      "## What is Pair Trading? \n",
      "\n",
      "Pair trading is a strategy for trading a pair financial instruments, where this pair historically has a 'mean reverting' relationship. This means that historically, the spread between the instrument's prices trade within a tight region, and if we detect that the current spread is outside its historical norm, we can take advantage of this by trading the instruments with the idea that the prices will return to their historical relationship. Essentially, we are exploiting slight deviations from a historical norm.\n",
      "\n",
      "A basic way of approaching this goes as follows:\n",
      "\n",
      "- Generate a list of pairs that we think trade together. This list can be generated using common sense (Pepsi and Coke) or knowledge of business fundamentals.\n",
      "- Testing this list of instruments for a mean reverting historical relationship. This can be done by testing for co-integration\n",
      "- Detecting either\n",
      "  - a temporary move away from this historical mean and create a position based on this; or\n",
      "  - that the instruments are moving *back* to their historical mean and we need to cash in our profits\n",
      "\n",
      "\n",
      "Most pair trading algorithms take a pair of positions \u2014 a long and a short. In this way, the trader isn\u2019t betting on direction, but rather simply betting that eventually the two assets will gravitate back to their usual relationship. Unfortunately, markets are not always predictable. Assets that were correlated over the last several years may not be correlated tomorrow. Correlations are tendencies for assets to move together, but at any given time they can diverge. This is called drift and will be talked about later.\n",
      "\n",
      "\n",
      "## Finding Pairs\n",
      "\n",
      "For this project, here is the list of stocks I used, which can be found at the beginnign of all my proposed algorithms:"
     ]
    },
    {
     "cell_type": "code",
     "collapsed": false,
     "input": [
      "    context.stocks = [\n",
      "                    (sid(4283), sid(5885)),   # Coke and Pepsi\n",
      "                    (sid(8229), sid(21090)),  # Walmart and Target\n",
      "                    (sid(8347), sid(23112)),  # Exxon mobile and Chevron\n",
      "                    (sid(3496), sid(4521)),   # Home depot and lowes\n",
      "                    (sid(20088), sid(25006)), # Goldman Sachs, JP Morgan\n",
      "                    (sid(863), sid(25165)),   # BHP Billiton Limited (BHP) and BHP Billiton plc (BBL)\n",
      "                    (sid(1638), sid(1637)),   # Comcact K and Comcast A\n",
      "                    (sid(7784), sid(7767)),   # Unilever\n",
      "                    (sid(8554), sid(2174))    # SPY and DIA \n",
      "                ]"
     ],
     "language": "python",
     "metadata": {},
     "outputs": []
    },
    {
     "cell_type": "markdown",
     "metadata": {},
     "source": [
      "References for these pairs:\n",
      "\n",
      "* [Wikipedia](http://en.wikipedia.org/wiki/Pairs_trade)\n",
      "* [Trading Markets](http://www.tradingmarkets.com/featured_contributors/how-to-successfully-pair-trade-1584315.html/2)\n",
      "* [Yahoo Finance](http://finance.yahoo.com/news/pairs-trading-strategy-etfs-140047289.html)\n",
      "\n",
      "## Testing for Cointegration\n",
      "\n",
      "Could cointegrate over long history, and if pair is shown to be cointegrated, then we\n",
      "start looking, per minute, if we need to make any orders based on spread. However, better\n",
      "option is to limit the history to some finite time so we can determine if they fall out of\n",
      "cointegration.\n",
      "\n",
      "  * http://stackoverflow.com/questions/23224842/plotting-historical-cointegration-values-between-two-pairs\n",
      "  * http://statsmodels.sourceforge.net/devel/_modules/statsmodels/tsa/stattools.html\n",
      "\n",
      "\n",
      "## When to Create a Position\n",
      "\n",
      "\n",
      "## When to Exit the Position\n",
      "\n",
      "\n",
      "## Algorithms on Quantopian\n",
      "\n",
      "### Overview of approach\n",
      "\n",
      "Each of the algorithms below take the approach of looking only at one pair, not a portfolio of them. I wanted to focus on a single pair to make sure I understood what was going on, as well as for debugging purposes. The algorithms can be easily extened to loop over the stocks context variable.\n",
      "\n",
      "After testing the pair for cointegration, we start our strategy: we look to find when the spread is 'out-of-bounds' from the historical average (defined as a parameter, context.window_length) by testing if the current spread is greater than the historical mean + or - some fraction of the historical standard deviation (context.zThreshold). If so, we long one stock and short the other, and then look for when the 'mean reversion' happens to lock in some profits. We detect this when the current spread and the historical spread 'cross paths'.\n",
      "\n",
      "### Algorithm One\n",
      "\n",
      "Location: https://www.quantopian.com/algorithms/5552aee307123e7be00004fc\n",
      "\n",
      "First algorithm uses the above setup: using zscore to determine when to enter and exit a position. No checking f\n",
      "\n",
      "### Algorithm Two\n",
      "\n",
      "I've seen some algorithms use a ration to define spread, while other use subtraction to define spread. this algorithm is a copy of the above using a different definition of spread\n",
      "\n",
      "### Algorithm Three\n",
      "\n",
      "This algorithm attempts a different trading strategy, described here.\n",
      "\n",
      "\n",
      "## Future Work\n",
      "\n",
      "Potential: handle drift by testing for cointegration every loop, and exiting the position when that happens\n",
      "\n",
      "### Mitigate Risk due to Drift \n",
      "\n",
      "\n",
      "\n",
      "## Reference Links\n",
      "\n",
      "* http://finance.yahoo.com/news/pairs-trading-strategy-etfs-140047289.html\n",
      "* http://en.wikipedia.org/wiki/Pairs_trade\n",
      "* http://www.investopedia.com/articles/trading/04/090804.asp\n",
      "* http://ses.library.usyd.edu.au/bitstream/2123/4072/1/Thesis_Schmidt.pdf\n",
      "* http://www.investopedia.com/university/guide-pairs-trading/pairs-trade-example.asp\n",
      "* http://www.tradingmarkets.com/featured_contributors/how-to-successfully-pair-trade-1584315.html/2"
     ]
    },
    {
     "cell_type": "markdown",
     "metadata": {},
     "source": [
      "## TODOS\n",
      "\n",
      "- Rewrite ' Testing for Cointegration'\n",
      "- describe trading strategy (kinda already did in algo desc)\n",
      "- describe alternate trading strategy\n",
      "- describe issue with order happening next day\n",
      "- describe how window_lnegth really affects affects gains\n",
      "- stop loss\n",
      "- different way to calculate spread: http://www.quantstart.com/articles/Backtesting-An-Intraday-Mean-Reversion-Pairs-Strategy-Between-SPY-And-IWM\n"
     ]
    },
    {
     "cell_type": "code",
     "collapsed": false,
     "input": [],
     "language": "python",
     "metadata": {},
     "outputs": []
    },
    {
     "cell_type": "code",
     "collapsed": false,
     "input": [],
     "language": "python",
     "metadata": {},
     "outputs": []
    },
    {
     "cell_type": "code",
     "collapsed": false,
     "input": [],
     "language": "python",
     "metadata": {},
     "outputs": []
    }
   ],
   "metadata": {}
  }
 ]
}